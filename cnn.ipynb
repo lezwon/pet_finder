{
 "cells": [
  {
   "cell_type": "code",
   "execution_count": 4,
   "metadata": {
    "_uuid": "5ec48ee1783d94f95c2c1dacd3a0fab364bf49b8"
   },
   "outputs": [],
   "source": [
    "%reload_ext autoreload\n",
    "%autoreload 2\n",
    "%matplotlib inline"
   ]
  },
  {
   "cell_type": "code",
   "execution_count": 5,
   "metadata": {
    "_uuid": "3f6cc1f39d75550bba5d080280e6594e91df18e1",
    "scrolled": true
   },
   "outputs": [],
   "source": [
    "import matplotlib.pyplot as plt\n",
    "import matplotlib.image as Image\n",
    "import numpy as np\n",
    "import pandas as pd\n",
    "from pathlib import Path\n",
    "from sklearn.model_selection import train_test_split"
   ]
  },
  {
   "cell_type": "code",
   "execution_count": 6,
   "metadata": {
    "_uuid": "b8d018672d67d9c1805d2463858b07b53c2bcdac"
   },
   "outputs": [],
   "source": [
    "from pytorchtools import EarlyStopping\n",
    "import torch.optim as optim\n",
    "from torch.utils.data import Dataset, DataLoader\n",
    "import os.path\n",
    "from pandas.core.frame import DataFrame\n",
    "from skimage import io, transform, color\n",
    "from torch import nn\n",
    "import torch.nn.functional as F\n",
    "from torchvision import transforms\n",
    "from torch.autograd import Variable\n",
    "import torch"
   ]
  },
  {
   "cell_type": "code",
   "execution_count": 7,
   "metadata": {},
   "outputs": [],
   "source": [
    "torch.cuda.empty_cache() "
   ]
  },
  {
   "cell_type": "code",
   "execution_count": 8,
   "metadata": {
    "_uuid": "6e874cf8057bc4a9f1fdcbad226bc63df2df057d"
   },
   "outputs": [],
   "source": [
    "train_csv = 'train.csv'\n",
    "test_csv = 'test.csv'\n",
    "breed_csv = 'breed_labels.csv'\n",
    "images_dir = 'train_images'"
   ]
  },
  {
   "cell_type": "code",
   "execution_count": 9,
   "metadata": {},
   "outputs": [],
   "source": [
    "dtype = {'PetID': int}"
   ]
  },
  {
   "cell_type": "code",
   "execution_count": 10,
   "metadata": {
    "_uuid": "a2bd01eb5927ac1184231ddc0130446d1b0223d1",
    "scrolled": true
   },
   "outputs": [],
   "source": [
    "train_set = pd.read_csv(train_csv, dtype = {'PetID': str})"
   ]
  },
  {
   "cell_type": "code",
   "execution_count": 11,
   "metadata": {},
   "outputs": [],
   "source": [
    "train_set['PetID'] = train_set['PetID'].apply(lambda x: '{0:0>9}'.format(x))"
   ]
  },
  {
   "cell_type": "code",
   "execution_count": 12,
   "metadata": {
    "_uuid": "44780922f83162e64432d3b4e6d0fdba2526fa0b",
    "scrolled": true
   },
   "outputs": [],
   "source": [
    "pd.set_option(\"display.max_columns\", None)\n",
    "pd.set_option(\"display.max_rows\", None)"
   ]
  },
  {
   "cell_type": "code",
   "execution_count": 13,
   "metadata": {
    "_uuid": "a4a35edccc58b1e12d99dbc8233fc7376df638a2",
    "scrolled": true
   },
   "outputs": [],
   "source": [
    "breed_df = pd.read_csv(breed_csv)"
   ]
  },
  {
   "cell_type": "code",
   "execution_count": 14,
   "metadata": {
    "_uuid": "71188f857f56b94c97248093f4e5babb1d07893d"
   },
   "outputs": [],
   "source": [
    "merged_df = pd.merge(train_set, breed_df, left_on='Breed1', right_on='BreedID')"
   ]
  },
  {
   "cell_type": "code",
   "execution_count": null,
   "metadata": {
    "_uuid": "b8ebfa06bfe39d8465adb991edf497eaafce4109"
   },
   "outputs": [],
   "source": [
    "# breed name and id in same table"
   ]
  },
  {
   "cell_type": "code",
   "execution_count": null,
   "metadata": {
    "_uuid": "3906e6f8c78bb2e789fcf85e6f0a3286182fcbbc"
   },
   "outputs": [],
   "source": [
    "rows = 2\n",
    "cols = 5\n",
    "adoption_speed = 2\n",
    "breed_id = 189     #support breed\n",
    "\n",
    "for adoption_speed in range(1,5):\n",
    "    filtered_df = train_set[(train_set.Breed1 == 20) & (train_set.Type == 1) & (train_set.AdoptionSpeed == adoption_speed) & (train_set.PhotoAmt > 0)]\n",
    "    try:\n",
    "        filtered_df = filtered_df.sample(rows * cols) #support small sample size\n",
    "    except:\n",
    "        continue\n",
    "    \n",
    "    image_set = np.split(filtered_df[['PetID', 'Breed1']], rows)\n",
    "\n",
    "    fig, axarr = plt.subplots(rows, cols, figsize=(40,25))\n",
    "    fig.suptitle(f'Adoption Speed: {adoption_speed}', fontsize=46)\n",
    "    for ax, images in zip(axarr, image_set):\n",
    "        for ax_one, (petId, breedID) in zip(ax, images.values): #suuport iteration\n",
    "            img = Image.imread(Path(f\"{images_dir}/{petId}-1.jpg\"))\n",
    "            breed_name = breed_df[breed_df.BreedID == breedID].BreedName.values[0]\n",
    "            ax_one.imshow(img)\n",
    "            ax_one.set_title(breed_name, fontsize=26)"
   ]
  },
  {
   "cell_type": "code",
   "execution_count": null,
   "metadata": {
    "_uuid": "5c42677dedd98d06f13af0d6af1645e06dd04e79"
   },
   "outputs": [],
   "source": [
    "# visualize decision tree\n",
    "# train image classfie accordingly\n",
    "# make data generator for fast ai"
   ]
  },
  {
   "cell_type": "code",
   "execution_count": 15,
   "metadata": {
    "_uuid": "5ed34b8e1658a6b24e5423e220d52a6b4f5a117f"
   },
   "outputs": [],
   "source": [
    "class PetFinderDataset(Dataset):\n",
    "    def __init__(self, csv: str, images_dir: str, image_count: int, transforms=None, test_set=False):\n",
    "        self.csv = pd.read_csv(csv)\n",
    "        self.images_dir = images_dir\n",
    "        self.transforms = transforms\n",
    "        self.image_count = image_count\n",
    "        self.df = self.csv[self.csv.PhotoAmt > 0].reset_index()\n",
    "        self.n_classes = self.df.nunique()\n",
    "        self.test_set = test_set\n",
    "        \n",
    "    def set_df(self, df):\n",
    "        self.df = df\n",
    "             \n",
    "    def __len__(self):\n",
    "        return len(self.df)\n",
    "    \n",
    "    def __read_image__(self, pet_id: str, number: int):\n",
    "        img_name = f'{pet_id}-{number}.jpg'\n",
    "        img_path = os.path.join(self.images_dir, img_name)\n",
    "        sample = io.imread(img_path)\n",
    "        if sample.ndim == 2:\n",
    "            sample = color.gray2rgb(sample)\n",
    "            \n",
    "        if self.transforms:\n",
    "            sample = self.transforms(sample)\n",
    "        return sample\n",
    "    \n",
    "    def __dummy__(self):\n",
    "        zeros = torch.zeros((256, 256, 3), dtype=torch.uint8)\n",
    "        if self.transforms:\n",
    "            sample = self.transforms(zeros)\n",
    "        return sample\n",
    "    \n",
    "    def __getitem__(self, idx):\n",
    "        \n",
    "        image_bunch = []\n",
    "        pet_id = self.df.loc[idx, 'PetID']\n",
    "        if self.test_set:\n",
    "            adoption_speed = 0\n",
    "        else:\n",
    "            adoption_speed = self.df.AdoptionSpeed.iloc[idx]\n",
    "        \n",
    "        if self.image_count <= self.df.loc[idx, 'PhotoAmt']:          \n",
    "            images_present = self.image_count\n",
    "            for img_no in range(1, images_present + 1):\n",
    "                image = self.__read_image__(pet_id, img_no)\n",
    "                image_bunch.append(image)\n",
    "        else:\n",
    "            images_present = self.df.loc[idx, 'PhotoAmt'].astype(int)\n",
    "            \n",
    "            img_diff = self.image_count - images_present\n",
    "            image_bunch += [self.__dummy__() for _ in range(img_diff)]\n",
    "            \n",
    "            for img_no in range(1, images_present + 1):\n",
    "                image = self.__read_image__(pet_id, img_no)\n",
    "                image_bunch.append(image)\n",
    "                \n",
    "        image_bunch = torch.stack(image_bunch).permute(1, 0, 2, 3)\n",
    "        return (image_bunch, adoption_speed)\n",
    "\n",
    "                "
   ]
  },
  {
   "cell_type": "code",
   "execution_count": 16,
   "metadata": {
    "_uuid": "c9ce55e95c3783bc4c99de7b55b2f63bd368a82b"
   },
   "outputs": [],
   "source": [
    "image_count = 4"
   ]
  },
  {
   "cell_type": "code",
   "execution_count": 17,
   "metadata": {
    "_uuid": "59e8716cdabb906123090f38414a557aaed731c0"
   },
   "outputs": [],
   "source": [
    "size = 256"
   ]
  },
  {
   "cell_type": "code",
   "execution_count": 18,
   "metadata": {
    "_uuid": "791e3caed3d994061390d45e4035be4547f7bbb4"
   },
   "outputs": [],
   "source": [
    "eval_transformation = transforms.Compose([\n",
    "        transforms.ToPILImage(),\n",
    "        transforms.Resize(size),\n",
    "        transforms.CenterCrop(224),\n",
    "        transforms.ToTensor(),\n",
    "        transforms.Normalize(mean=[0.485, 0.456, 0.406], std=[0.229, 0.224, 0.225])\n",
    "    ])"
   ]
  },
  {
   "cell_type": "code",
   "execution_count": 19,
   "metadata": {},
   "outputs": [],
   "source": [
    "data_df = train_set[(train_set.PhotoAmt > 0)]"
   ]
  },
  {
   "cell_type": "code",
   "execution_count": 39,
   "metadata": {},
   "outputs": [],
   "source": [
    " X_train, X_test, y_train, y_test = train_test_split(data_df, data_df.AdoptionSpeed, test_size=0.2, random_state=1)"
   ]
  },
  {
   "cell_type": "code",
   "execution_count": 21,
   "metadata": {},
   "outputs": [],
   "source": [
    "value_counts  = X_train.AdoptionSpeed.value_counts()"
   ]
  },
  {
   "cell_type": "code",
   "execution_count": 22,
   "metadata": {},
   "outputs": [
    {
     "data": {
      "text/plain": [
       "<matplotlib.axes._subplots.AxesSubplot at 0xe7f9198>"
      ]
     },
     "execution_count": 22,
     "metadata": {},
     "output_type": "execute_result"
    },
    {
     "data": {
      "image/png": "[encoded data removed]",
      "text/plain": [
       "<Figure size 432x288 with 1 Axes>"
      ]
     },
     "metadata": {
      "needs_background": "light"
     },
     "output_type": "display_data"
    }
   ],
   "source": [
    "value_counts.plot(kind='bar', title='Count (target)')"
   ]
  },
  {
   "cell_type": "code",
   "execution_count": 40,
   "metadata": {},
   "outputs": [],
   "source": [
    "mean = int(value_counts.mean())"
   ]
  },
  {
   "cell_type": "code",
   "execution_count": 41,
   "metadata": {},
   "outputs": [],
   "source": [
    "grouped = X_train.groupby('AdoptionSpeed')"
   ]
  },
  {
   "cell_type": "code",
   "execution_count": 42,
   "metadata": {},
   "outputs": [],
   "source": [
    "new_df = None\n",
    "\n",
    "for name, group in grouped:\n",
    "    if len(group) > mean:\n",
    "        combined = group.sample(mean)\n",
    "    else:\n",
    "        rem = group.sample(mean - len(group), replace= True)\n",
    "        combined =  pd.concat([group, rem], axis=0)\n",
    "    if new_df is None:\n",
    "        new_df = combined\n",
    "    else:\n",
    "         new_df = pd.concat([new_df, combined], axis=0)"
   ]
  },
  {
   "cell_type": "code",
   "execution_count": 43,
   "metadata": {},
   "outputs": [
    {
     "data": {
      "text/plain": [
       "4    2344\n",
       "3    2344\n",
       "2    2344\n",
       "1    2344\n",
       "0    2344\n",
       "Name: AdoptionSpeed, dtype: int64"
      ]
     },
     "execution_count": 43,
     "metadata": {},
     "output_type": "execute_result"
    }
   ],
   "source": [
    "new_df.AdoptionSpeed.value_counts()"
   ]
  },
  {
   "cell_type": "code",
   "execution_count": 64,
   "metadata": {
    "_uuid": "fa89cfadb1bd167edbcf3a07de195903e7f33645"
   },
   "outputs": [],
   "source": [
    "ds = PetFinderDataset(train_csv, images_dir, image_count, eval_transformation)"
   ]
  },
  {
   "cell_type": "code",
   "execution_count": 65,
   "metadata": {},
   "outputs": [],
   "source": [
    "ds.set_df(new_df.reset_index())"
   ]
  },
  {
   "cell_type": "code",
   "execution_count": 66,
   "metadata": {
    "_uuid": "18d4e14356ff28ddc3212579894803b3609e68d2"
   },
   "outputs": [],
   "source": [
    "dataloader = DataLoader(ds, batch_size=4, num_workers=0)"
   ]
  },
  {
   "cell_type": "code",
   "execution_count": 45,
   "metadata": {},
   "outputs": [],
   "source": [
    "test_ds = PetFinderDataset(test_csv, images_dir, image_count, eval_transformation)"
   ]
  },
  {
   "cell_type": "code",
   "execution_count": 58,
   "metadata": {},
   "outputs": [],
   "source": [
    "test_ds.set_df(X_test.reset_index())"
   ]
  },
  {
   "cell_type": "code",
   "execution_count": 59,
   "metadata": {},
   "outputs": [],
   "source": [
    "testloader = DataLoader(test_ds, batch_size=4, num_workers=0)"
   ]
  },
  {
   "cell_type": "code",
   "execution_count": 52,
   "metadata": {
    "_uuid": "0f14a1e250d42ed566e5cc5436b18e569144b657"
   },
   "outputs": [],
   "source": [
    "class Model(nn.Module):\n",
    "    \n",
    "    def __init__(self):\n",
    "        super(Model, self).__init__()\n",
    "        self.conv1=nn.Conv3d(3,64,kernel_size=(3,3,3),stride=1,padding=(1,1,1))\n",
    "        self.maxpool1=nn.MaxPool3d(kernel_size=(1,2,2),stride=(1,2,2))\n",
    "        self.conv2=nn.Conv3d(64,128,kernel_size=(3,3,3),stride=1,padding=(1,1,1))\n",
    "        self.maxpool2=nn.MaxPool3d(kernel_size=(2,2,2),stride=(2,2,2))\n",
    "        self.conv3=nn.Conv3d(128, 64,kernel_size=(3,3,3),stride=1,padding=(1,1,1))\n",
    "        self.maxpool3=nn.MaxPool3d(kernel_size=(2,2,2),stride=(2,2,2))\n",
    "        \n",
    "        self.dense1_bn = nn.BatchNorm1d(100)\n",
    "\n",
    "        self.num_out_maxpool5 = 64 * 1 * 28 * 28\n",
    "        self.fc1=nn.Linear(self.num_out_maxpool5,2048)#TBA\n",
    "        self.fc2=nn.Linear(2048,1024)\n",
    "        self.fc3=nn.Linear(1024,512)\n",
    "        self.fc4=nn.Linear(512,5)\n",
    "        \n",
    "        self.dropout=nn.Dropout(p=0.5)\n",
    "        \n",
    "    def forward(self, x):\n",
    "        x = F.relu(self.conv1(x))\n",
    "        x = self.maxpool1(x)\n",
    "        x = F.relu(self.conv2(x))\n",
    "        x = self.maxpool2(x)\n",
    "        x = F.relu(self.conv3(x))\n",
    "        x = self.maxpool3(x)\n",
    "        x = x.view(-1, self.__num_flat_features(x))\n",
    "        x = F.relu(self.fc1(x))\n",
    "        x = F.relu(self.fc2(x))\n",
    "        x = self.dropout(x)\n",
    "        x = F.relu(self.fc3(x))\n",
    "        x = self.dropout(x)\n",
    "        x = self.fc4(x)\n",
    "        return x\n",
    "    \n",
    "    def __num_flat_features(self, x):\n",
    "        size = x.size()[1:]  # all dimensions except the batch dimension\n",
    "        num_features = 1\n",
    "        for s in size:       # Get the products\n",
    "            num_features *= s\n",
    "        return num_features"
   ]
  },
  {
   "cell_type": "code",
   "execution_count": 53,
   "metadata": {
    "_uuid": "ec6ca1efa4d7ebdb45f078a979081365cddde9a7"
   },
   "outputs": [],
   "source": [
    "model = Model().cuda()"
   ]
  },
  {
   "cell_type": "code",
   "execution_count": 36,
   "metadata": {},
   "outputs": [],
   "source": [
    "SAVE_PATH = Path('model.pt')"
   ]
  },
  {
   "cell_type": "code",
   "execution_count": 50,
   "metadata": {},
   "outputs": [],
   "source": [
    "weights = torch.load(SAVE_PATH)"
   ]
  },
  {
   "cell_type": "code",
   "execution_count": 54,
   "metadata": {},
   "outputs": [],
   "source": [
    "model.load_state_dict(weights)"
   ]
  },
  {
   "cell_type": "code",
   "execution_count": 71,
   "metadata": {
    "_uuid": "e8cb71f146276374f2db99cd803341813ca96b26"
   },
   "outputs": [],
   "source": [
    "criterion = nn.CrossEntropyLoss()\n",
    "optimizer = optim.SGD(model.parameters(), lr=0.001, momentum=0.9)"
   ]
  },
  {
   "cell_type": "code",
   "execution_count": 69,
   "metadata": {},
   "outputs": [],
   "source": [
    "# normalize data\n",
    "# beagle images\n",
    "# incorrect images\n",
    "# batch norm\n",
    "# train only on doggies\n",
    "# check for accuracy and shit\n",
    "# validation set and crap\n",
    "# Balance Dataset for adoption speed\n",
    "# Transfer Learning\n",
    "# train cats later\n",
    "# try different breeds\n",
    "# add breed classfier and train\n",
    "# connect to catboost\n",
    "# structured data fast ai\n",
    "# early stopping\n",
    "# fix readign images from csv\n",
    "# split train - test before cat and dog\n",
    "# put results in csv, train with cat boost and print\n",
    "# randomize images and their order\n",
    "# checkpoints"
   ]
  },
  {
   "cell_type": "code",
   "execution_count": 67,
   "metadata": {},
   "outputs": [],
   "source": [
    "train_loader = dataloader\n",
    "valid_loader = testloader"
   ]
  },
  {
   "cell_type": "code",
   "execution_count": null,
   "metadata": {},
   "outputs": [
    {
     "name": "stdout",
     "output_type": "stream",
     "text": [
      "Train Batch: 1\n",
      "Train Batch: 2\n",
      "Train Batch: 3\n",
      "Train Batch: 4\n",
      "Train Batch: 5\n",
      "Train Batch: 6\n",
      "Train Batch: 7\n",
      "Train Batch: 8\n",
      "Train Batch: 9\n",
      "Train Batch: 10\n",
      "Train Batch: 11\n",
      "Train Batch: 12\n",
      "Train Batch: 13\n",
      "Train Batch: 14\n",
      "Train Batch: 15\n",
      "Train Batch: 16\n",
      "Train Batch: 17\n",
      "Train Batch: 18\n",
      "Train Batch: 19\n",
      "Train Batch: 20\n",
      "Train Batch: 21\n",
      "Train Batch: 22\n",
      "Train Batch: 23\n",
      "Train Batch: 24\n",
      "Train Batch: 25\n",
      "Train Batch: 26\n",
      "Train Batch: 27\n",
      "Train Batch: 28\n",
      "Train Batch: 29\n",
      "Train Batch: 30\n",
      "Train Batch: 31\n",
      "Train Batch: 32\n",
      "Train Batch: 33\n",
      "Train Batch: 34\n",
      "Train Batch: 35\n",
      "Train Batch: 36\n",
      "Train Batch: 37\n",
      "Train Batch: 38\n",
      "Train Batch: 39\n",
      "Train Batch: 40\n",
      "Train Batch: 41\n",
      "Train Batch: 42\n",
      "Train Batch: 43\n",
      "Train Batch: 44\n"
     ]
    }
   ],
   "source": [
    "# to track the training loss as the model trains\n",
    "train_losses = []\n",
    "# to track the validation loss as the model trains\n",
    "valid_losses = []\n",
    "# to track the average training loss per epoch as the model trains\n",
    "avg_train_losses = []\n",
    "# to track the average validation loss per epoch as the model trains\n",
    "avg_valid_losses = [] \n",
    "\n",
    "patience = 5\n",
    "n_epochs = 15\n",
    "# initialize the early_stopping object\n",
    "early_stopping = EarlyStopping(patience=patience, verbose=True)\n",
    "\n",
    "test_acc = 0.0\n",
    "\n",
    "for epoch in range(1, n_epochs + 1):\n",
    "\n",
    "    ###################\n",
    "    # train the model #\n",
    "    ###################\n",
    "    model.train() # prep model for training\n",
    "    for batch, (data, target) in enumerate(train_loader, 1):\n",
    "        print(f'Train Batch: {batch}')\n",
    "        \n",
    "        data = Variable(data.cuda())\n",
    "        target = Variable(target.cuda())\n",
    "        \n",
    "        # clear the gradients of all optimized variables\n",
    "        optimizer.zero_grad()\n",
    "        # forward pass: compute predicted outputs by passing inputs to the model\n",
    "        output = model(data)\n",
    "        # calculate the loss\n",
    "        loss = criterion(output, target)\n",
    "        # backward pass: compute gradient of the loss with respect to model parameters\n",
    "        loss.backward()\n",
    "        # perform a single optimization step (parameter update)\n",
    "        optimizer.step()\n",
    "        # record training loss\n",
    "        train_losses.append(loss.item())\n",
    "\n",
    "    ######################    \n",
    "    # validate the model #\n",
    "    ######################\n",
    "    model.eval() # prep model for evaluation\n",
    "    for data, target in valid_loader:\n",
    "        data = Variable(data.cuda())\n",
    "        target = Variable(target.cuda())\n",
    "        # forward pass: compute predicted outputs by passing inputs to the model\n",
    "        output = model(data)\n",
    "        # calculate the loss\n",
    "        loss = criterion(output, target)\n",
    "        _, prediction = torch.max(output.data, 1)\n",
    "        test_acc += torch.sum(prediction == target.data)\n",
    "        # record validation loss\n",
    "        valid_losses.append(loss.item())\n",
    "        \n",
    "    \n",
    "    test_acc = test_acc.double() / len(X_test)\n",
    "    print(f'Accuracy: {test_acc}')\n",
    "\n",
    "    # print training/validation statistics \n",
    "    # calculate average loss over an epoch\n",
    "    train_loss = np.average(train_losses)\n",
    "    valid_loss = np.average(valid_losses)\n",
    "    avg_train_losses.append(train_loss)\n",
    "    avg_valid_losses.append(valid_loss)\n",
    "\n",
    "    epoch_len = len(str(n_epochs))\n",
    "\n",
    "    print_msg = (f'[{epoch:>{epoch_len}}/{n_epochs:>{epoch_len}}] ' +\n",
    "                 f'train_loss: {train_loss:.5f} ' +\n",
    "                 f'valid_loss: {valid_loss:.5f}')\n",
    "\n",
    "    print(print_msg)\n",
    "\n",
    "    # clear lists to track next epoch\n",
    "    train_losses = []\n",
    "    valid_losses = []\n",
    "\n",
    "    # early_stopping needs the validation loss to check if it has decresed, \n",
    "    # and if it has, it will make a checkpoint of the current model\n",
    "    early_stopping(valid_loss, model)\n",
    "\n",
    "    if early_stopping.early_stop:\n",
    "        print(\"Early stopping\")\n",
    "        break"
   ]
  },
  {
   "cell_type": "code",
   "execution_count": 229,
   "metadata": {},
   "outputs": [
    {
     "data": {
      "text/plain": [
       "(tensor([12.2461,  6.8897, 21.1981, 31.9723], device='cuda:0'),\n",
       " tensor([4, 4, 4, 4], device='cuda:0'))"
      ]
     },
     "execution_count": 229,
     "metadata": {},
     "output_type": "execute_result"
    }
   ],
   "source": [
    "torch.max(output.data, 1)"
   ]
  },
  {
   "cell_type": "code",
   "execution_count": 230,
   "metadata": {},
   "outputs": [
    {
     "data": {
      "text/plain": [
       "tensor([0, 0, 0, 0], device='cuda:0', dtype=torch.uint8)"
      ]
     },
     "execution_count": 230,
     "metadata": {},
     "output_type": "execute_result"
    }
   ],
   "source": [
    "prediction == target.data"
   ]
  },
  {
   "cell_type": "code",
   "execution_count": null,
   "metadata": {},
   "outputs": [],
   "source": [
    "# TODO: test train set"
   ]
  },
  {
   "cell_type": "code",
   "execution_count": 244,
   "metadata": {},
   "outputs": [
    {
     "data": {
      "image/png": "[encoded data removed]",
      "text/plain": [
       "<Figure size 720x576 with 1 Axes>"
      ]
     },
     "metadata": {
      "needs_background": "light"
     },
     "output_type": "display_data"
    }
   ],
   "source": [
    "# visualize the loss as the network trained\n",
    "fig = plt.figure(figsize=(10,8))\n",
    "plt.plot(range(1,len(avg_train_losses)+1),avg_train_losses, label='Training Loss')\n",
    "plt.plot(range(1,len(avg_valid_losses)+1),avg_valid_losses,label='Validation Loss')\n",
    "\n",
    "# find position of lowest validation loss\n",
    "minposs = avg_valid_losses.index(min(avg_valid_losses))+1 \n",
    "plt.axvline(minposs, linestyle='--', color='r',label='Early Stopping Checkpoint')\n",
    "\n",
    "plt.xlabel('epochs')\n",
    "plt.ylabel('loss')\n",
    "plt.ylim(0, 0.5) # consistent scale\n",
    "plt.xlim(0, len(avg_train_losses)+1) # consistent scale\n",
    "plt.grid(True)\n",
    "plt.legend()\n",
    "plt.tight_layout()\n",
    "plt.show()\n",
    "fig.savefig('loss_plot.png', bbox_inches='tight')"
   ]
  },
  {
   "cell_type": "code",
   "execution_count": null,
   "metadata": {},
   "outputs": [],
   "source": [
    "net.state_dict()"
   ]
  },
  {
   "cell_type": "code",
   "execution_count": null,
   "metadata": {},
   "outputs": [],
   "source": [
    "torch.save(net.state_dict(), SAVE_PATH)"
   ]
  },
  {
   "cell_type": "code",
   "execution_count": 60,
   "metadata": {},
   "outputs": [
    {
     "name": "stdout",
     "output_type": "stream",
     "text": [
      "Batch 0\n",
      "Batch 1\n",
      "Batch 2\n",
      "Batch 3\n",
      "Batch 4\n",
      "Batch 5\n",
      "Batch 6\n",
      "Batch 7\n",
      "Batch 8\n",
      "Batch 9\n",
      "Batch 10\n",
      "Batch 11\n",
      "Batch 12\n",
      "Batch 13\n",
      "Batch 14\n",
      "Batch 15\n",
      "Batch 16\n",
      "Batch 17\n",
      "Batch 18\n",
      "Batch 19\n",
      "Batch 20\n",
      "Batch 21\n",
      "Batch 22\n",
      "Batch 23\n",
      "Batch 24\n",
      "Batch 25\n",
      "Batch 26\n",
      "Batch 27\n",
      "Batch 28\n",
      "Batch 29\n",
      "Batch 30\n",
      "Batch 31\n",
      "Batch 32\n",
      "Batch 33\n",
      "Batch 34\n",
      "Batch 35\n",
      "Batch 36\n",
      "Batch 37\n",
      "Batch 38\n",
      "Batch 39\n",
      "Batch 40\n",
      "Batch 41\n",
      "Batch 42\n",
      "Batch 43\n",
      "Batch 44\n",
      "Batch 45\n",
      "Batch 46\n",
      "Batch 47\n",
      "Batch 48\n",
      "Batch 49\n",
      "Batch 50\n",
      "Batch 51\n",
      "Batch 52\n",
      "Batch 53\n",
      "Batch 54\n",
      "Batch 55\n",
      "Batch 56\n",
      "Batch 57\n",
      "Batch 58\n",
      "Batch 59\n",
      "Batch 60\n",
      "Batch 61\n",
      "Batch 62\n",
      "Batch 63\n",
      "Batch 64\n",
      "Batch 65\n",
      "Batch 66\n",
      "Batch 67\n",
      "Batch 68\n",
      "Batch 69\n",
      "Batch 70\n",
      "Batch 71\n",
      "Batch 72\n",
      "Batch 73\n",
      "Batch 74\n",
      "Batch 75\n",
      "Batch 76\n",
      "Batch 77\n",
      "Batch 78\n",
      "Batch 79\n",
      "Batch 80\n",
      "Batch 81\n",
      "Batch 82\n",
      "Batch 83\n",
      "Batch 84\n",
      "Batch 85\n",
      "Batch 86\n",
      "Batch 87\n",
      "Batch 88\n",
      "Batch 89\n",
      "Batch 90\n",
      "Batch 91\n",
      "Batch 92\n",
      "Batch 93\n",
      "Batch 94\n",
      "Batch 95\n",
      "Batch 96\n",
      "Batch 97\n",
      "Batch 98\n",
      "Batch 99\n",
      "Batch 100\n",
      "Batch 101\n",
      "Batch 102\n",
      "Batch 103\n",
      "Batch 104\n",
      "Batch 105\n",
      "Batch 106\n",
      "Batch 107\n",
      "Batch 108\n",
      "Batch 109\n",
      "Batch 110\n",
      "Batch 111\n",
      "Batch 112\n",
      "Batch 113\n",
      "Batch 114\n",
      "Batch 115\n",
      "Batch 116\n",
      "Batch 117\n",
      "Batch 118\n",
      "Batch 119\n",
      "Batch 120\n",
      "Batch 121\n",
      "Batch 122\n",
      "Batch 123\n",
      "Batch 124\n",
      "Batch 125\n",
      "Batch 126\n",
      "Batch 127\n",
      "Batch 128\n",
      "Batch 129\n",
      "Batch 130\n",
      "Batch 131\n",
      "Batch 132\n",
      "Batch 133\n",
      "Batch 134\n",
      "Batch 135\n",
      "Batch 136\n",
      "Batch 137\n",
      "Batch 138\n",
      "Batch 139\n",
      "Batch 140\n",
      "Batch 141\n",
      "Batch 142\n",
      "Batch 143\n",
      "Batch 144\n",
      "Batch 145\n",
      "Batch 146\n",
      "Batch 147\n",
      "Batch 148\n",
      "Batch 149\n",
      "Batch 150\n",
      "Batch 151\n",
      "Batch 152\n",
      "Batch 153\n",
      "Batch 154\n",
      "Batch 155\n",
      "Batch 156\n",
      "Batch 157\n",
      "Batch 158\n",
      "Batch 159\n",
      "Batch 160\n",
      "Batch 161\n",
      "Batch 162\n",
      "Batch 163\n",
      "Batch 164\n",
      "Batch 165\n",
      "Batch 166\n",
      "Batch 167\n",
      "Batch 168\n",
      "Batch 169\n",
      "Batch 170\n",
      "Batch 171\n",
      "Batch 172\n",
      "Batch 173\n",
      "Batch 174\n",
      "Batch 175\n",
      "Batch 176\n",
      "Batch 177\n",
      "Batch 178\n",
      "Batch 179\n",
      "Batch 180\n",
      "Batch 181\n",
      "Batch 182\n",
      "Batch 183\n",
      "Batch 184\n",
      "Batch 185\n",
      "Batch 186\n",
      "Batch 187\n",
      "Batch 188\n",
      "Batch 189\n",
      "Batch 190\n",
      "Batch 191\n",
      "Batch 192\n",
      "Batch 193\n",
      "Batch 194\n",
      "Batch 195\n",
      "Batch 196\n",
      "Batch 197\n",
      "Batch 198\n",
      "Batch 199\n",
      "Batch 200\n",
      "Batch 201\n",
      "Batch 202\n",
      "Batch 203\n",
      "Batch 204\n",
      "Batch 205\n",
      "Batch 206\n",
      "Batch 207\n",
      "Batch 208\n",
      "Batch 209\n",
      "Batch 210\n",
      "Batch 211\n",
      "Batch 212\n",
      "Batch 213\n",
      "Batch 214\n",
      "Batch 215\n",
      "Batch 216\n",
      "Batch 217\n",
      "Batch 218\n",
      "Batch 219\n",
      "Batch 220\n",
      "Batch 221\n",
      "Batch 222\n",
      "Batch 223\n",
      "Batch 224\n",
      "Batch 225\n",
      "Batch 226\n",
      "Batch 227\n",
      "Batch 228\n",
      "Batch 229\n",
      "Batch 230\n",
      "Batch 231\n",
      "Batch 232\n",
      "Batch 233\n",
      "Batch 234\n",
      "Batch 235\n",
      "Batch 236\n",
      "Batch 237\n",
      "Batch 238\n",
      "Batch 239\n",
      "Batch 240\n",
      "Batch 241\n",
      "Batch 242\n",
      "Batch 243\n",
      "Batch 244\n",
      "Batch 245\n",
      "Batch 246\n",
      "Batch 247\n",
      "Batch 248\n",
      "Batch 249\n",
      "Batch 250\n",
      "Batch 251\n",
      "Batch 252\n",
      "Batch 253\n",
      "Batch 254\n",
      "Batch 255\n",
      "Batch 256\n",
      "Batch 257\n",
      "Batch 258\n",
      "Batch 259\n",
      "Batch 260\n",
      "Batch 261\n",
      "Batch 262\n",
      "Batch 263\n",
      "Batch 264\n",
      "Batch 265\n",
      "Batch 266\n",
      "Batch 267\n",
      "Batch 268\n",
      "Batch 269\n",
      "Batch 270\n",
      "Batch 271\n",
      "Batch 272\n",
      "Batch 273\n",
      "Batch 274\n",
      "Batch 275\n",
      "Batch 276\n",
      "Batch 277\n",
      "Batch 278\n",
      "Batch 279\n",
      "Batch 280\n",
      "Batch 281\n",
      "Batch 282\n",
      "Batch 283\n",
      "Batch 284\n",
      "Batch 285\n",
      "Batch 286\n",
      "Batch 287\n",
      "Batch 288\n",
      "Batch 289\n",
      "Batch 290\n",
      "Batch 291\n",
      "Batch 292\n",
      "Batch 293\n",
      "Batch 294\n",
      "Batch 295\n",
      "Batch 296\n",
      "Batch 297\n",
      "Batch 298\n",
      "Batch 299\n",
      "Batch 300\n",
      "Batch 301\n",
      "Batch 302\n",
      "Batch 303\n",
      "Batch 304\n",
      "Batch 305\n",
      "Batch 306\n",
      "Batch 307\n",
      "Batch 308\n",
      "Batch 309\n",
      "Batch 310\n",
      "Batch 311\n",
      "Batch 312\n",
      "Batch 313\n",
      "Batch 314\n",
      "Batch 315\n",
      "Batch 316\n",
      "Batch 317\n",
      "Batch 318\n",
      "Batch 319\n",
      "Batch 320\n",
      "Batch 321\n",
      "Batch 322\n",
      "Batch 323\n",
      "Batch 324\n",
      "Batch 325\n",
      "Batch 326\n",
      "Batch 327\n",
      "Batch 328\n",
      "Batch 329\n",
      "Batch 330\n",
      "Batch 331\n",
      "Batch 332\n",
      "Batch 333\n",
      "Batch 334\n",
      "Batch 335\n",
      "Batch 336\n",
      "Batch 337\n",
      "Batch 338\n",
      "Batch 339\n",
      "Batch 340\n",
      "Batch 341\n",
      "Batch 342\n",
      "Batch 343\n",
      "Batch 344\n",
      "Batch 345\n",
      "Batch 346\n",
      "Batch 347\n",
      "Batch 348\n",
      "Batch 349\n",
      "Batch 350\n",
      "Batch 351\n",
      "Batch 352\n",
      "Batch 353\n",
      "Batch 354\n",
      "Batch 355\n",
      "Batch 356\n",
      "Batch 357\n",
      "Batch 358\n",
      "Batch 359\n",
      "Batch 360\n",
      "Batch 361\n",
      "Batch 362\n",
      "Batch 363\n",
      "Batch 364\n",
      "Batch 365\n",
      "Batch 366\n",
      "Batch 367\n",
      "Batch 368\n",
      "Batch 369\n",
      "Batch 370\n",
      "Batch 371\n",
      "Batch 372\n",
      "Batch 373\n",
      "Batch 374\n",
      "Batch 375\n",
      "Batch 376\n",
      "Batch 377\n",
      "Batch 378\n",
      "Batch 379\n",
      "Batch 380\n",
      "Batch 381\n",
      "Batch 382\n",
      "Batch 383\n",
      "Batch 384\n",
      "Batch 385\n",
      "Batch 386\n",
      "Batch 387\n",
      "Batch 388\n",
      "Batch 389\n",
      "Batch 390\n",
      "Batch 391\n",
      "Batch 392\n",
      "Batch 393\n",
      "Batch 394\n",
      "Batch 395\n",
      "Batch 396\n",
      "Batch 397\n",
      "Batch 398\n",
      "Batch 399\n",
      "Batch 400\n",
      "Batch 401\n",
      "Batch 402\n",
      "Batch 403\n",
      "Batch 404\n",
      "Batch 405\n",
      "Batch 406\n",
      "Batch 407\n",
      "Batch 408\n",
      "Batch 409\n",
      "Batch 410\n",
      "Batch 411\n",
      "Batch 412\n",
      "Batch 413\n",
      "Batch 414\n",
      "Batch 415\n",
      "Batch 416\n",
      "Batch 417\n",
      "Batch 418\n",
      "Batch 419\n",
      "Batch 420\n",
      "Batch 421\n",
      "Batch 422\n",
      "Batch 423\n",
      "Batch 424\n",
      "Batch 425\n",
      "Batch 426\n",
      "Batch 427\n",
      "Batch 428\n",
      "Batch 429\n",
      "Batch 430\n",
      "Batch 431\n",
      "Batch 432\n",
      "Batch 433\n",
      "Batch 434\n",
      "Batch 435\n",
      "Batch 436\n",
      "Batch 437\n",
      "Batch 438\n",
      "Batch 439\n",
      "Batch 440\n",
      "Batch 441\n",
      "Batch 442\n",
      "Batch 443\n",
      "Batch 444\n",
      "Batch 445\n",
      "Batch 446\n",
      "Batch 447\n",
      "Batch 448\n",
      "Batch 449\n",
      "Batch 450\n",
      "Batch 451\n",
      "Batch 452\n",
      "Batch 453\n",
      "Batch 454\n",
      "Batch 455\n",
      "Batch 456\n",
      "Batch 457\n",
      "Batch 458\n",
      "Batch 459\n",
      "Batch 460\n",
      "Batch 461\n",
      "Batch 462\n",
      "Batch 463\n",
      "Batch 464\n",
      "Batch 465\n",
      "Batch 466\n",
      "Batch 467\n",
      "Batch 468\n",
      "Batch 469\n",
      "Batch 470\n",
      "Batch 471\n",
      "Batch 472\n",
      "Batch 473\n",
      "Batch 474\n",
      "Batch 475\n",
      "Batch 476\n",
      "Batch 477\n",
      "Batch 478\n",
      "Batch 479\n",
      "Batch 480\n",
      "Batch 481\n",
      "Batch 482\n",
      "Batch 483\n",
      "Batch 484\n",
      "Batch 485\n",
      "Batch 486\n",
      "Batch 487\n",
      "Batch 488\n",
      "Batch 489\n",
      "Batch 490\n",
      "Batch 491\n",
      "Batch 492\n",
      "Batch 493\n",
      "Batch 494\n",
      "Batch 495\n",
      "Batch 496\n",
      "Batch 497\n",
      "Batch 498\n",
      "Batch 499\n",
      "Batch 500\n",
      "Batch 501\n",
      "Batch 502\n",
      "Batch 503\n",
      "Batch 504\n",
      "Batch 505\n",
      "Batch 506\n",
      "Batch 507\n",
      "Batch 508\n",
      "Batch 509\n",
      "Batch 510\n",
      "Batch 511\n",
      "Batch 512\n",
      "Batch 513\n",
      "Batch 514\n",
      "Batch 515\n",
      "Batch 516\n",
      "Batch 517\n",
      "Batch 518\n",
      "Batch 519\n",
      "Batch 520\n",
      "Batch 521\n",
      "Batch 522\n",
      "Batch 523\n",
      "Batch 524\n",
      "Batch 525\n",
      "Batch 526\n",
      "Batch 527\n",
      "Batch 528\n",
      "Batch 529\n",
      "Batch 530\n",
      "Batch 531\n",
      "Batch 532\n",
      "Batch 533\n",
      "Batch 534\n",
      "Batch 535\n",
      "Batch 536\n",
      "Batch 537\n",
      "Batch 538\n",
      "Batch 539\n",
      "Batch 540\n",
      "Batch 541\n",
      "Batch 542\n",
      "Batch 543\n",
      "Batch 544\n",
      "Batch 545\n",
      "Batch 546\n",
      "Batch 547\n",
      "Batch 548\n",
      "Batch 549\n",
      "Batch 550\n",
      "Batch 551\n",
      "Batch 552\n",
      "Batch 553\n",
      "Batch 554\n",
      "Batch 555\n",
      "Batch 556\n",
      "Batch 557\n",
      "Batch 558\n",
      "Batch 559\n",
      "Batch 560\n",
      "Batch 561\n",
      "Batch 562\n",
      "Batch 563\n",
      "Batch 564\n",
      "Batch 565\n",
      "Batch 566\n",
      "Batch 567\n",
      "Batch 568\n",
      "Batch 569\n",
      "Batch 570\n",
      "Batch 571\n",
      "Batch 572\n",
      "Batch 573\n",
      "Batch 574\n",
      "Batch 575\n",
      "Batch 576\n",
      "Batch 577\n",
      "Batch 578\n",
      "Batch 579\n",
      "Batch 580\n",
      "Batch 581\n",
      "Batch 582\n",
      "Batch 583\n",
      "Batch 584\n",
      "Batch 585\n",
      "Batch 586\n",
      "Batch 587\n",
      "Batch 588\n",
      "Batch 589\n",
      "Batch 590\n",
      "Batch 591\n",
      "Batch 592\n",
      "Batch 593\n",
      "Batch 594\n",
      "Batch 595\n",
      "Batch 596\n",
      "Batch 597\n",
      "Batch 598\n",
      "Batch 599\n",
      "Batch 600\n",
      "Batch 601\n",
      "Batch 602\n",
      "Batch 603\n",
      "Batch 604\n",
      "Batch 605\n",
      "Batch 606\n",
      "Batch 607\n",
      "Batch 608\n",
      "Batch 609\n",
      "Batch 610\n",
      "Batch 611\n",
      "Batch 612\n",
      "Batch 613\n",
      "Batch 614\n",
      "Batch 615\n",
      "Batch 616\n",
      "Batch 617\n",
      "Batch 618\n",
      "Batch 619\n",
      "Batch 620\n",
      "Batch 621\n",
      "Batch 622\n",
      "Batch 623\n",
      "Batch 624\n",
      "Batch 625\n",
      "Batch 626\n",
      "Batch 627\n",
      "Batch 628\n",
      "Batch 629\n",
      "Batch 630\n",
      "Batch 631\n",
      "Batch 632\n",
      "Batch 633\n",
      "Batch 634\n",
      "Batch 635\n",
      "Batch 636\n",
      "Batch 637\n",
      "Batch 638\n",
      "Batch 639\n",
      "Batch 640\n",
      "Batch 641\n",
      "Batch 642\n",
      "Batch 643\n",
      "Batch 644\n",
      "Batch 645\n",
      "Batch 646\n",
      "Batch 647\n",
      "Batch 648\n",
      "Batch 649\n",
      "Batch 650\n",
      "Batch 651\n",
      "Batch 652\n",
      "Batch 653\n",
      "Batch 654\n",
      "Batch 655\n",
      "Batch 656\n",
      "Batch 657\n",
      "Batch 658\n",
      "Batch 659\n",
      "Batch 660\n",
      "Batch 661\n",
      "Batch 662\n",
      "Batch 663\n",
      "Batch 664\n",
      "Batch 665\n",
      "Batch 666\n",
      "Batch 667\n",
      "Batch 668\n",
      "Batch 669\n",
      "Batch 670\n",
      "Batch 671\n",
      "Batch 672\n",
      "Batch 673\n",
      "Batch 674\n",
      "Batch 675\n",
      "Batch 676\n",
      "Batch 677\n",
      "Batch 678\n",
      "Batch 679\n",
      "Batch 680\n",
      "Batch 681\n",
      "Batch 682\n",
      "Batch 683\n",
      "Batch 684\n",
      "Batch 685\n",
      "Batch 686\n",
      "Batch 687\n",
      "Batch 688\n",
      "Batch 689\n",
      "Batch 690\n",
      "Batch 691\n",
      "Batch 692\n",
      "Batch 693\n",
      "Batch 694\n",
      "Batch 695\n",
      "Batch 696\n",
      "Batch 697\n",
      "Batch 698\n",
      "Batch 699\n",
      "Batch 700\n",
      "Batch 701\n",
      "Batch 702\n",
      "Batch 703\n",
      "Batch 704\n",
      "Batch 705\n",
      "Batch 706\n",
      "Batch 707\n",
      "Batch 708\n",
      "Batch 709\n",
      "Batch 710\n",
      "Batch 711\n",
      "Batch 712\n",
      "Batch 713\n",
      "Batch 714\n",
      "Batch 715\n",
      "Batch 716\n",
      "Batch 717\n",
      "Batch 718\n",
      "Batch 719\n",
      "Batch 720\n",
      "Batch 721\n",
      "Batch 722\n",
      "Batch 723\n",
      "Batch 724\n",
      "Batch 725\n",
      "Batch 726\n",
      "Batch 727\n",
      "Batch 728\n",
      "Batch 729\n",
      "Batch 730\n",
      "Batch 731\n",
      "Batch 732\n",
      "Accuracy: 0.2900034118048448\n"
     ]
    }
   ],
   "source": [
    "model.eval()\n",
    "\n",
    "test_acc = 0.0\n",
    "with torch.no_grad():\n",
    "    for i, (images, labels) in enumerate(testloader):\n",
    "        print(f'Batch {i}')\n",
    "\n",
    "        images = Variable(images.cuda())\n",
    "        labels = Variable(labels.cuda())\n",
    "\n",
    "        # Predict classes using images from the test set\n",
    "        outputs = model(images)\n",
    "        _, prediction = torch.max(outputs.data, 1)\n",
    "\n",
    "        test_acc += torch.sum(prediction == labels.data)\n",
    "\n",
    "    # Compute the average acc and loss over all 10000 test images\n",
    "    test_acc = test_acc.double() / len(X_test)\n",
    "    print(f'Accuracy: {test_acc}')"
   ]
  },
  {
   "cell_type": "code",
   "execution_count": null,
   "metadata": {},
   "outputs": [],
   "source": [
    "train_set = pd.read_csv(test_csv)"
   ]
  },
  {
   "cell_type": "code",
   "execution_count": null,
   "metadata": {},
   "outputs": [],
   "source": [
    "photo_df = train_set[train_set.PhotoAmt > 0 ]"
   ]
  },
  {
   "cell_type": "code",
   "execution_count": null,
   "metadata": {},
   "outputs": [],
   "source": [
    "sliced_df = photo_df[['PetID', 'PhotoAmt']]"
   ]
  },
  {
   "cell_type": "code",
   "execution_count": 113,
   "metadata": {},
   "outputs": [],
   "source": [
    "import pathlib"
   ]
  },
  {
   "cell_type": "code",
   "execution_count": 114,
   "metadata": {},
   "outputs": [],
   "source": [
    "images_path = pathlib.Path('./train_images')"
   ]
  },
  {
   "cell_type": "code",
   "execution_count": 125,
   "metadata": {},
   "outputs": [],
   "source": [
    "img_files = os.listdir(images_path)"
   ]
  },
  {
   "cell_type": "code",
   "execution_count": 170,
   "metadata": {},
   "outputs": [],
   "source": [
    "temp = set()\n",
    "not_found = set()\n",
    "\n",
    "for index, row in dog_set.iterrows():\n",
    "    petID = row.loc['PetID']\n",
    "    photo_no = int(row['PhotoAmt'])\n",
    "    for no in range(1, photo_no + 1):\n",
    "        img_path = Path(images_path, f'{petID}-{no}.jpg')\n",
    "        if img_path.exists():\n",
    "            temp.add(str(img_path))\n",
    "        else:\n",
    "            not_found.add(str(img_path))"
   ]
  },
  {
   "cell_type": "code",
   "execution_count": 171,
   "metadata": {},
   "outputs": [
    {
     "data": {
      "text/plain": [
       "0"
      ]
     },
     "execution_count": 171,
     "metadata": {},
     "output_type": "execute_result"
    }
   ],
   "source": [
    "len(not_found)"
   ]
  },
  {
   "cell_type": "code",
   "execution_count": 166,
   "metadata": {},
   "outputs": [
    {
     "data": {
      "text/html": [
       "<div>\n",
       "<style scoped>\n",
       "    .dataframe tbody tr th:only-of-type {\n",
       "        vertical-align: middle;\n",
       "    }\n",
       "\n",
       "    .dataframe tbody tr th {\n",
       "        vertical-align: top;\n",
       "    }\n",
       "\n",
       "    .dataframe thead th {\n",
       "        text-align: right;\n",
       "    }\n",
       "</style>\n",
       "<table border=\"1\" class=\"dataframe\">\n",
       "  <thead>\n",
       "    <tr style=\"text-align: right;\">\n",
       "      <th></th>\n",
       "      <th>Type</th>\n",
       "      <th>Name</th>\n",
       "      <th>Age</th>\n",
       "      <th>Breed1</th>\n",
       "      <th>Breed2</th>\n",
       "      <th>Gender</th>\n",
       "      <th>Color1</th>\n",
       "      <th>Color2</th>\n",
       "      <th>Color3</th>\n",
       "      <th>MaturitySize</th>\n",
       "      <th>...</th>\n",
       "      <th>Health</th>\n",
       "      <th>Quantity</th>\n",
       "      <th>Fee</th>\n",
       "      <th>State</th>\n",
       "      <th>RescuerID</th>\n",
       "      <th>VideoAmt</th>\n",
       "      <th>Description</th>\n",
       "      <th>PetID</th>\n",
       "      <th>PhotoAmt</th>\n",
       "      <th>AdoptionSpeed</th>\n",
       "    </tr>\n",
       "  </thead>\n",
       "  <tbody>\n",
       "  </tbody>\n",
       "</table>\n",
       "<p>0 rows × 24 columns</p>\n",
       "</div>"
      ],
      "text/plain": [
       "Empty DataFrame\n",
       "Columns: [Type, Name, Age, Breed1, Breed2, Gender, Color1, Color2, Color3, MaturitySize, FurLength, Vaccinated, Dewormed, Sterilized, Health, Quantity, Fee, State, RescuerID, VideoAmt, Description, PetID, PhotoAmt, AdoptionSpeed]\n",
       "Index: []\n",
       "\n",
       "[0 rows x 24 columns]"
      ]
     },
     "execution_count": 166,
     "metadata": {},
     "output_type": "execute_result"
    }
   ],
   "source": [
    "train_set[train_set.PetID == '1.06E+150']"
   ]
  },
  {
   "cell_type": "code",
   "execution_count": null,
   "metadata": {},
   "outputs": [],
   "source": [
    "not_found"
   ]
  },
  {
   "cell_type": "code",
   "execution_count": null,
   "metadata": {},
   "outputs": [],
   "source": [
    "difference = img_files - temp"
   ]
  },
  {
   "cell_type": "code",
   "execution_count": null,
   "metadata": {},
   "outputs": [],
   "source": [
    "list(not_found)[:10]"
   ]
  },
  {
   "cell_type": "code",
   "execution_count": null,
   "metadata": {},
   "outputs": [],
   "source": [
    "list(difference)[:10]"
   ]
  },
  {
   "cell_type": "code",
   "execution_count": null,
   "metadata": {},
   "outputs": [],
   "source": [
    "import re\n",
    "\n",
    "def extract_id(path):\n",
    "        m = re.search('\\\\\\\\(.+?)-\\d+.jpg', path)\n",
    "        if m:\n",
    "            return m.group(1)"
   ]
  },
  {
   "cell_type": "code",
   "execution_count": null,
   "metadata": {},
   "outputs": [],
   "source": [
    "import difflib"
   ]
  },
  {
   "cell_type": "code",
   "execution_count": null,
   "metadata": {},
   "outputs": [],
   "source": [
    "str_diff = set(map(extract_id, (map(str, difference))))\n",
    "str_not_found = set(map( extract_id, map(str, not_found)))"
   ]
  },
  {
   "cell_type": "code",
   "execution_count": null,
   "metadata": {},
   "outputs": [],
   "source": [
    "replace = {}\n",
    "for missing in str_not_found:\n",
    "    matches = difflib.get_close_matches(missing, str_diff, n=3, cutoff=0.45)\n",
    "    if matches:\n",
    "        print(missing, matches[0])\n",
    "        replace[missing] = matches[0]"
   ]
  },
  {
   "cell_type": "code",
   "execution_count": null,
   "metadata": {},
   "outputs": [],
   "source": [
    "replace"
   ]
  },
  {
   "cell_type": "code",
   "execution_count": null,
   "metadata": {},
   "outputs": [],
   "source": [
    "replace.keys()"
   ]
  },
  {
   "cell_type": "code",
   "execution_count": null,
   "metadata": {},
   "outputs": [],
   "source": [
    "train_set.replace(replace, inplace = True)"
   ]
  },
  {
   "cell_type": "code",
   "execution_count": null,
   "metadata": {},
   "outputs": [],
   "source": [
    "train_set = train_set[~train_set.PetID.isin(str_not_found)]"
   ]
  },
  {
   "cell_type": "code",
   "execution_count": null,
   "metadata": {},
   "outputs": [],
   "source": [
    "train_set.to_csv('new_train.csv')"
   ]
  },
  {
   "cell_type": "code",
   "execution_count": null,
   "metadata": {},
   "outputs": [],
   "source": []
  }
 ],
 "metadata": {
  "kernelspec": {
   "display_name": "Python 3",
   "language": "python",
   "name": "python3"
  },
  "language_info": {
   "codemirror_mode": {
    "name": "ipython",
    "version": 3
   },
   "file_extension": ".py",
   "mimetype": "text/x-python",
   "name": "python",
   "nbconvert_exporter": "python",
   "pygments_lexer": "ipython3",
   "version": "3.6.6"
  }
 },
 "nbformat": 4,
 "nbformat_minor": 2
}
